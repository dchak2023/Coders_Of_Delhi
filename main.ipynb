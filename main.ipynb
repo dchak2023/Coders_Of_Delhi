{
 "cells": [
  {
   "cell_type": "markdown",
   "id": "5c65975b-c9ee-4d51-ad7f-698bb2a1b1f1",
   "metadata": {},
   "source": [
    "## Reading and Understanding the Json file"
   ]
  },
  {
   "cell_type": "code",
   "execution_count": 1,
   "id": "a0c9b08e-b5d4-4218-abca-fd797dda239e",
   "metadata": {},
   "outputs": [],
   "source": [
    "import json"
   ]
  },
  {
   "cell_type": "code",
   "execution_count": 2,
   "id": "65fc0c03-fe57-4159-b145-10339c4f33a3",
   "metadata": {},
   "outputs": [],
   "source": [
    "def load_file(filename):\n",
    "    with open(filename, \"r\") as file:\n",
    "        data = json.load(file)\n",
    "    return data"
   ]
  },
  {
   "cell_type": "code",
   "execution_count": 3,
   "id": "3cf19946-19a0-49c6-a4ec-541a8de1c0f0",
   "metadata": {},
   "outputs": [
    {
     "name": "stdout",
     "output_type": "stream",
     "text": [
      "{'users': [{'id': 1, 'name': 'Amit', 'friends': [2, 3], 'liked_pages': [101]}, {'id': 2, 'name': 'Priya', 'friends': [1, 4], 'liked_pages': [102]}, {'id': 3, 'name': 'Rahul', 'friends': [1], 'liked_pages': [101, 103]}, {'id': 4, 'name': 'Sara', 'friends': [2], 'liked_pages': [104]}], 'pages': [{'id': 101, 'name': 'Python Developers'}, {'id': 102, 'name': 'Data Science Enthusiasts'}, {'id': 103, 'name': 'AI & ML Community'}, {'id': 104, 'name': 'Web Dev Hub'}]}\n"
     ]
    }
   ],
   "source": [
    "data = load_file(\"data.json\")\n",
    "print(data)"
   ]
  },
  {
   "cell_type": "code",
   "execution_count": 8,
   "id": "46928e24-a685-4922-a277-447999a06da5",
   "metadata": {},
   "outputs": [],
   "source": [
    "def display_data(data):\n",
    "    print(\"Users and their Connections:\\n\")\n",
    "    for user in data['users']:\n",
    "        print(f\"User ID: {user['id']} is {user['name']} and it friends with: {user['friends']} and the liked pages of this user is: {user['liked_pages']} \")\n",
    "    print(\"\\nPages:\\n\")\n",
    "    for page in data['pages']:\n",
    "        print(f\"{page['id']}: {page['name']}\")"
   ]
  },
  {
   "cell_type": "code",
   "execution_count": 9,
   "id": "c2e5e0b1-b4f4-4f5f-b96e-6123e95baeaf",
   "metadata": {},
   "outputs": [
    {
     "name": "stdout",
     "output_type": "stream",
     "text": [
      "Users and their Connections:\n",
      "\n",
      "User ID: 1 is Amit and it friends with: [2, 3] and the liked pages of this user is: [101] \n",
      "User ID: 2 is Priya and it friends with: [1, 4] and the liked pages of this user is: [102] \n",
      "User ID: 3 is Rahul and it friends with: [1] and the liked pages of this user is: [101, 103] \n",
      "User ID: 4 is Sara and it friends with: [2] and the liked pages of this user is: [104] \n",
      "\n",
      "Pages:\n",
      "\n",
      "101: Python Developers\n",
      "102: Data Science Enthusiasts\n",
      "103: AI & ML Community\n",
      "104: Web Dev Hub\n"
     ]
    }
   ],
   "source": [
    "display_data(data)"
   ]
  },
  {
   "cell_type": "code",
   "execution_count": null,
   "id": "8362f0ad-4316-4b5e-8721-b47545b19037",
   "metadata": {},
   "outputs": [],
   "source": []
  }
 ],
 "metadata": {
  "kernelspec": {
   "display_name": "Python 3 (ipykernel)",
   "language": "python",
   "name": "python3"
  },
  "language_info": {
   "codemirror_mode": {
    "name": "ipython",
    "version": 3
   },
   "file_extension": ".py",
   "mimetype": "text/x-python",
   "name": "python",
   "nbconvert_exporter": "python",
   "pygments_lexer": "ipython3",
   "version": "3.13.5"
  }
 },
 "nbformat": 4,
 "nbformat_minor": 5
}
