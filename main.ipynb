{
 "cells": [
  {
   "cell_type": "markdown",
   "id": "5c65975b-c9ee-4d51-ad7f-698bb2a1b1f1",
   "metadata": {},
   "source": [
    "## Reading and Understanding the Json file"
   ]
  },
  {
   "cell_type": "code",
   "execution_count": 1,
   "id": "ee449055-439a-4f90-83d2-5c57bec7a36d",
   "metadata": {},
   "outputs": [],
   "source": [
    "import json"
   ]
  },
  {
   "cell_type": "code",
   "execution_count": 2,
   "id": "10d9fdba-50a1-4ce4-9c0a-9deaacab30bf",
   "metadata": {},
   "outputs": [],
   "source": [
    "def load_data(filename):\n",
    "    with open(filename, \"r\") as file:\n",
    "        data = json.load(file)\n",
    "        return data"
   ]
  },
  {
   "cell_type": "code",
   "execution_count": 7,
   "id": "f21e9527-cde5-4ba7-aa01-8d2798676688",
   "metadata": {},
   "outputs": [],
   "source": [
    "def display_users(data):\n",
    "    for user in data[\"users\"]:\n",
    "        print(f\"{user['name']} ({user['id']}) - Friends: {user['friends']} Liked Pages: {user['liked_pages']}\")\n",
    "    print(\"\\n Pages \\n\")\n",
    "    for page in data[\"pages\"]:\n",
    "        print(f\"{page['id']}: {page['name']}\")"
   ]
  },
  {
   "cell_type": "code",
   "execution_count": 8,
   "id": "b2e00043-22f6-41ac-9490-9c3c4841a2c3",
   "metadata": {},
   "outputs": [
    {
     "name": "stdout",
     "output_type": "stream",
     "text": [
      "Amit (1) - Friends: [2, 3] Liked Pages: [101]\n",
      "Priya (2) - Friends: [1, 4] Liked Pages: [102]\n",
      "Rahul (3) - Friends: [1] Liked Pages: [101, 103]\n",
      "Sara (4) - Friends: [2] Liked Pages: [104]\n",
      "\n",
      " Pages \n",
      "\n",
      "101: Python Developers\n",
      "102: Data Science Enthusiasts\n",
      "103: AI & ML Community\n",
      "104: Web Dev Hub\n"
     ]
    }
   ],
   "source": [
    "data = load_data(\"data.json\")\n",
    "display_users(data)"
   ]
  },
  {
   "cell_type": "code",
   "execution_count": null,
   "id": "4182f06a-03e7-4315-9ee3-b7a9d1a04c91",
   "metadata": {},
   "outputs": [],
   "source": []
  }
 ],
 "metadata": {
  "kernelspec": {
   "display_name": "Python 3 (ipykernel)",
   "language": "python",
   "name": "python3"
  },
  "language_info": {
   "codemirror_mode": {
    "name": "ipython",
    "version": 3
   },
   "file_extension": ".py",
   "mimetype": "text/x-python",
   "name": "python",
   "nbconvert_exporter": "python",
   "pygments_lexer": "ipython3",
   "version": "3.13.5"
  }
 },
 "nbformat": 4,
 "nbformat_minor": 5
}
